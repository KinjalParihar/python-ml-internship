{
 "cells": [
  {
   "cell_type": "code",
   "execution_count": 14,
   "id": "6c9910c4-2aaf-4a0c-b54a-6a7e7a1dc2e8",
   "metadata": {},
   "outputs": [],
   "source": [
    "import pandas as pd"
   ]
  },
  {
   "cell_type": "code",
   "execution_count": 10,
   "id": "205d7f4e-29d7-4ca4-8ea4-ac47a2c779e9",
   "metadata": {},
   "outputs": [],
   "source": [
    "dic= {\n",
    "    \"Name\":[\"Ram\", \"Shyam\", \"Sameer\", \"Kajal\"],\n",
    "    \"Roll no\":[1,2,3,4],\n",
    "    \"Grades\":[\"A\", \"B\", \"C\", \"D\"],\n",
    "    \"Email\":[\"abc@xyz.com\", \"def@xyz.com\", \"ghi@gmail.com\", \"jkl@gmail.com\"]\n",
    "}"
   ]
  },
  {
   "cell_type": "code",
   "execution_count": 11,
   "id": "2cbbc56f-c453-4b05-98ea-6f6d064aed1a",
   "metadata": {},
   "outputs": [
    {
     "data": {
      "text/plain": [
       "{'Name': ['Ram', 'Shyam', 'Sameer', 'Kajal'],\n",
       " 'Roll no': [1, 2, 3, 4],\n",
       " 'Grades': ['A', 'B', 'C', 'D'],\n",
       " 'Email': ['abc@xyz.com', 'def@xyz.com', 'ghi@gmail.com', 'jkl@gmail.com']}"
      ]
     },
     "execution_count": 11,
     "metadata": {},
     "output_type": "execute_result"
    }
   ],
   "source": [
    "dic"
   ]
  },
  {
   "cell_type": "code",
   "execution_count": 15,
   "id": "d3894a62-caa4-4b8d-8bcb-44c3814dea34",
   "metadata": {},
   "outputs": [
    {
     "data": {
      "text/html": [
       "<div>\n",
       "<style scoped>\n",
       "    .dataframe tbody tr th:only-of-type {\n",
       "        vertical-align: middle;\n",
       "    }\n",
       "\n",
       "    .dataframe tbody tr th {\n",
       "        vertical-align: top;\n",
       "    }\n",
       "\n",
       "    .dataframe thead th {\n",
       "        text-align: right;\n",
       "    }\n",
       "</style>\n",
       "<table border=\"1\" class=\"dataframe\">\n",
       "  <thead>\n",
       "    <tr style=\"text-align: right;\">\n",
       "      <th></th>\n",
       "      <th>Name</th>\n",
       "      <th>Roll no</th>\n",
       "      <th>Grades</th>\n",
       "      <th>Email</th>\n",
       "    </tr>\n",
       "  </thead>\n",
       "  <tbody>\n",
       "    <tr>\n",
       "      <th>0</th>\n",
       "      <td>Ram</td>\n",
       "      <td>1</td>\n",
       "      <td>A</td>\n",
       "      <td>abc@xyz.com</td>\n",
       "    </tr>\n",
       "    <tr>\n",
       "      <th>1</th>\n",
       "      <td>Shyam</td>\n",
       "      <td>2</td>\n",
       "      <td>B</td>\n",
       "      <td>def@xyz.com</td>\n",
       "    </tr>\n",
       "    <tr>\n",
       "      <th>2</th>\n",
       "      <td>Sameer</td>\n",
       "      <td>3</td>\n",
       "      <td>C</td>\n",
       "      <td>ghi@gmail.com</td>\n",
       "    </tr>\n",
       "    <tr>\n",
       "      <th>3</th>\n",
       "      <td>Kajal</td>\n",
       "      <td>4</td>\n",
       "      <td>D</td>\n",
       "      <td>jkl@gmail.com</td>\n",
       "    </tr>\n",
       "  </tbody>\n",
       "</table>\n",
       "</div>"
      ],
      "text/plain": [
       "     Name  Roll no Grades          Email\n",
       "0     Ram        1      A    abc@xyz.com\n",
       "1   Shyam        2      B    def@xyz.com\n",
       "2  Sameer        3      C  ghi@gmail.com\n",
       "3   Kajal        4      D  jkl@gmail.com"
      ]
     },
     "execution_count": 15,
     "metadata": {},
     "output_type": "execute_result"
    }
   ],
   "source": [
    "df=pd.DataFrame(dic)\n",
    "df"
   ]
  },
  {
   "cell_type": "code",
   "execution_count": null,
   "id": "8ad8a2dd-896d-412e-9ba2-d6cf1028a364",
   "metadata": {},
   "outputs": [],
   "source": []
  },
  {
   "cell_type": "code",
   "execution_count": null,
   "id": "ce72f549-7926-4a07-a1a8-fa549b7f6941",
   "metadata": {},
   "outputs": [],
   "source": []
  }
 ],
 "metadata": {
  "kernelspec": {
   "display_name": "Python 3 (ipykernel)",
   "language": "python",
   "name": "python3"
  },
  "language_info": {
   "codemirror_mode": {
    "name": "ipython",
    "version": 3
   },
   "file_extension": ".py",
   "mimetype": "text/x-python",
   "name": "python",
   "nbconvert_exporter": "python",
   "pygments_lexer": "ipython3",
   "version": "3.12.4"
  }
 },
 "nbformat": 4,
 "nbformat_minor": 5
}
