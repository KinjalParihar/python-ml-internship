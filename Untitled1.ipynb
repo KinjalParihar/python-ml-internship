{
 "cells": [
  {
   "cell_type": "code",
   "execution_count": null,
   "id": "caa8fab8-4a03-4c5b-b984-12cd1416e6b2",
   "metadata": {},
   "outputs": [],
   "source": [
    "import numpy as np"
   ]
  },
  {
   "cell_type": "code",
   "execution_count": null,
   "id": "85d36b2c-e005-4ff1-a9b5-189ad0567af6",
   "metadata": {},
   "outputs": [],
   "source": [
    "score = np.array([[85, 90, 78],\n",
    "                             [92, 88, 95],\n",
    "                             [76, 95, 85],\n",
    "                             [90, 85, 92],\n",
    "                             [88, 76, 89]])"
   ]
  },
  {
   "cell_type": "code",
   "execution_count": null,
   "id": "0c0b0f60-18f4-4823-b63f-9b8789e43918",
   "metadata": {},
   "outputs": [],
   "source": [
    "print(\"1\\n\\n\\n\\n\")\n",
    "subject_means = np.mean(scores, axis=0)\n",
    "print(\"Mean score of each subject:\", subject_means)"
   ]
  },
  {
   "cell_type": "code",
   "execution_count": null,
   "id": "a8900867-4b34-4d9b-8137-4eb39dd53630",
   "metadata": {},
   "outputs": [],
   "source": [
    "print(\"\\n\\n\\n\\n2\\n\\n\\n\\n\")"
   ]
  },
  {
   "cell_type": "code",
   "execution_count": null,
   "id": "2633d9eb-d282-4eda-b252-4b56f2be8789",
   "metadata": {},
   "outputs": [],
   "source": [
    "student_medians = np.median(scores, axis=1)\n",
    "print(\"Median score of each student:\", student_medians)"
   ]
  },
  {
   "cell_type": "code",
   "execution_count": null,
   "id": "370c2ea5-59f7-4752-b762-c85c88d246c8",
   "metadata": {},
   "outputs": [],
   "source": [
    "print(\"\\n\\n\\n\\n3\\n\\n\\n\\n\")\n",
    "\n",
    "highest_total_index = np.argmax(np.sum(scores, axis=1))\n",
    "highest_scores = scores[highest_total_index]\n",
    "print(\"Scores of the student with the highest total score:\", highest_scores)"
   ]
  },
  {
   "cell_type": "code",
   "execution_count": null,
   "id": "715fbc02-a9c9-4f52-8941-d47825aebb96",
   "metadata": {},
   "outputs": [],
   "source": []
  }
 ],
 "metadata": {
  "kernelspec": {
   "display_name": "Python 3 (ipykernel)",
   "language": "python",
   "name": "python3"
  },
  "language_info": {
   "codemirror_mode": {
    "name": "ipython",
    "version": 3
   },
   "file_extension": ".py",
   "mimetype": "text/x-python",
   "name": "python",
   "nbconvert_exporter": "python",
   "pygments_lexer": "ipython3",
   "version": "3.12.4"
  }
 },
 "nbformat": 4,
 "nbformat_minor": 5
}
