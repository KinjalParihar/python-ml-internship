{
 "cells": [
  {
   "cell_type": "code",
   "execution_count": 2,
   "id": "75c40c9c-f49f-4e36-8475-9a6d30ea2647",
   "metadata": {},
   "outputs": [
    {
     "name": "stdout",
     "output_type": "stream",
     "text": [
      "        *  \n",
      "      * *  \n",
      "    * * *  \n",
      "  * * * *  \n",
      "* * * * *  \n"
     ]
    }
   ],
   "source": [
    "#1\n",
    "k=4\n",
    "for i in range (0,5):\n",
    "    for j in range (0,5):\n",
    "          if i+j>=k:\n",
    "               print(\"*\", end=\" \")\n",
    "          else:\n",
    "                print(\" \", end=\" \")\n",
    "    print (\" \")"
   ]
  },
  {
   "cell_type": "code",
   "execution_count": 7,
   "id": "b83b723d-7ede-454c-9235-1bf430a0a7fb",
   "metadata": {},
   "outputs": [
    {
     "name": "stdin",
     "output_type": "stream",
     "text": [
      "enter the first number:  5\n",
      "enter the second number:  0\n"
     ]
    },
    {
     "name": "stdout",
     "output_type": "stream",
     "text": [
      "ArithmeticException\n"
     ]
    },
    {
     "name": "stdin",
     "output_type": "stream",
     "text": [
      "enter the first number:  0\n",
      "enter the second number:  0\n"
     ]
    },
    {
     "name": "stdout",
     "output_type": "stream",
     "text": [
      "ArithmeticException\n"
     ]
    },
    {
     "name": "stdin",
     "output_type": "stream",
     "text": [
      "enter the first number:  1\n",
      "enter the second number:  2\n"
     ]
    },
    {
     "name": "stdout",
     "output_type": "stream",
     "text": [
      "0.5\n"
     ]
    }
   ],
   "source": [
    "# 2\n",
    "a=1\n",
    "while(a==1):\n",
    "        k1= input(\"enter the first number: \")\n",
    "        k2= input(\"enter the second number: \")\n",
    "        try:\n",
    "            float(k1)/float(k2)\n",
    "        except ZeroDivisionError:\n",
    "            print(\"ArithmeticException\")\n",
    "            a=2\n",
    "        except ValueError:\n",
    "            print(\"NumberFormatException\")\n",
    "            a=2\n",
    "        if a==2:\n",
    "            a=1\n",
    "        else:\n",
    "            print(float(k1)/float(k2))\n",
    "            a=0"
   ]
  },
  {
   "cell_type": "code",
   "execution_count": null,
   "id": "33c2a18b-139f-4d7b-b918-d96b205b33fe",
   "metadata": {},
   "outputs": [],
   "source": []
  }
 ],
 "metadata": {
  "kernelspec": {
   "display_name": "Python 3 (ipykernel)",
   "language": "python",
   "name": "python3"
  },
  "language_info": {
   "codemirror_mode": {
    "name": "ipython",
    "version": 3
   },
   "file_extension": ".py",
   "mimetype": "text/x-python",
   "name": "python",
   "nbconvert_exporter": "python",
   "pygments_lexer": "ipython3",
   "version": "3.12.4"
  }
 },
 "nbformat": 4,
 "nbformat_minor": 5
}
